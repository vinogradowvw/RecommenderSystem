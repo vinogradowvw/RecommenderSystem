{
 "cells": [
  {
   "cell_type": "code",
   "execution_count": 3,
   "metadata": {},
   "outputs": [],
   "source": [
    "from datasets import load_dataset, Image\n",
    "import pandas as pd\n",
    "import numpy as np\n",
    "import spacy\n",
    "from spacy.language import Language\n",
    "from spacy.tokens import Doc\n",
    "from spacy.tokens import Token\n",
    "from spacy.lang.en import stop_words\n",
    "from sklearn.feature_extraction.text import TfidfVectorizer\n",
    "from sklearn.metrics.pairwise import cosine_similarity\n",
    "import spacy_fastlang\n",
    "from transformers import BertTokenizer, BertModel\n",
    "import torch\n",
    "import torchvision.models as models\n",
    "from torchvision.transforms import Resize\n",
    "from torchvision.transforms import Normalize\n",
    "from torchvision.transforms import ToTensor\n",
    "from torch.autograd import Variable\n",
    "from PIL import Image\n",
    "from io import BytesIO\n",
    "import requests\n",
    "from sklearn.feature_extraction.text import CountVectorizer\n",
    "import pickle"
   ]
  },
  {
   "cell_type": "code",
   "execution_count": 4,
   "metadata": {},
   "outputs": [],
   "source": [
    "posts = load_dataset(\"p1atdev/pinterest\", split='train', )"
   ]
  },
  {
   "cell_type": "code",
   "execution_count": 5,
   "metadata": {},
   "outputs": [
    {
     "data": {
      "text/html": [
       "<div>\n",
       "<style scoped>\n",
       "    .dataframe tbody tr th:only-of-type {\n",
       "        vertical-align: middle;\n",
       "    }\n",
       "\n",
       "    .dataframe tbody tr th {\n",
       "        vertical-align: top;\n",
       "    }\n",
       "\n",
       "    .dataframe thead th {\n",
       "        text-align: right;\n",
       "    }\n",
       "</style>\n",
       "<table border=\"1\" class=\"dataframe\">\n",
       "  <thead>\n",
       "    <tr style=\"text-align: right;\">\n",
       "      <th></th>\n",
       "      <th>tags</th>\n",
       "      <th>url</th>\n",
       "      <th>src</th>\n",
       "      <th>alt</th>\n",
       "    </tr>\n",
       "  </thead>\n",
       "  <tbody>\n",
       "    <tr>\n",
       "      <th>0</th>\n",
       "      <td>[Character Design Animation, Character Design ...</td>\n",
       "      <td>https://www.pinterest.com/pin/12525705205055127/</td>\n",
       "      <td>https://i.pinimg.com/originals/4f/42/05/4f4205...</td>\n",
       "      <td>Here Comes The Grump - Concept Art</td>\n",
       "    </tr>\n",
       "    <tr>\n",
       "      <th>1</th>\n",
       "      <td>[Little Nightmares Fanart, Dreams And Nightmar...</td>\n",
       "      <td>https://www.pinterest.com/pin/832814156105807021/</td>\n",
       "      <td>https://i.pinimg.com/originals/91/43/b9/9143b9...</td>\n",
       "      <td>Tarsier Studios Little Nightmares II Art Blast...</td>\n",
       "    </tr>\n",
       "    <tr>\n",
       "      <th>2</th>\n",
       "      <td>[Cyberpunk City, Cyberpunk 2077, Cyberpunk Kun...</td>\n",
       "      <td>https://www.pinterest.com/pin/515099276148793993/</td>\n",
       "      <td>https://i.pinimg.com/originals/28/e1/24/28e124...</td>\n",
       "      <td>Showcase of Mind Blowing Concept Art of Futuri...</td>\n",
       "    </tr>\n",
       "    <tr>\n",
       "      <th>3</th>\n",
       "      <td>[Fantasy Kunst, Fantasy City, Fantasy Places, ...</td>\n",
       "      <td>https://www.pinterest.com/pin/354728908162906711/</td>\n",
       "      <td>https://i.pinimg.com/originals/01/98/37/019837...</td>\n",
       "      <td></td>\n",
       "    </tr>\n",
       "    <tr>\n",
       "      <th>4</th>\n",
       "      <td>[Creature Concept Art, Creature Design, Creatu...</td>\n",
       "      <td>https://www.pinterest.com/pin/894738650947032543/</td>\n",
       "      <td>https://i.pinimg.com/originals/22/de/51/22de51...</td>\n",
       "      <td>Book of the Dead: Concept Art | Unity Blog</td>\n",
       "    </tr>\n",
       "    <tr>\n",
       "      <th>...</th>\n",
       "      <td>...</td>\n",
       "      <td>...</td>\n",
       "      <td>...</td>\n",
       "      <td>...</td>\n",
       "    </tr>\n",
       "    <tr>\n",
       "      <th>3570</th>\n",
       "      <td>[Photo 3d, Image Beautiful, 3d Mesh, Art Vinta...</td>\n",
       "      <td>https://www.pinterest.com/pin/564638872046245267/</td>\n",
       "      <td>https://i.pinimg.com/originals/f7/44/8d/f7448d...</td>\n",
       "      <td>The Surreal Portraiture of Simple Objects</td>\n",
       "    </tr>\n",
       "    <tr>\n",
       "      <th>3571</th>\n",
       "      <td>[Girls Cartoon Art, Cartoon Art Styles, Anime ...</td>\n",
       "      <td>https://www.pinterest.com/pin/706150416606406453/</td>\n",
       "      <td>https://i.pinimg.com/originals/2d/63/6b/2d636b...</td>\n",
       "      <td>Stephanie Priscilla on Twitter</td>\n",
       "    </tr>\n",
       "    <tr>\n",
       "      <th>3572</th>\n",
       "      <td>[Japon Illustration, Cute Illustration, Websit...</td>\n",
       "      <td>https://www.pinterest.com/pin/37858453109156245/</td>\n",
       "      <td>https://i.pinimg.com/originals/d5/15/92/d51592...</td>\n",
       "      <td>Cat Tea by SeerLight on DeviantArt</td>\n",
       "    </tr>\n",
       "    <tr>\n",
       "      <th>3573</th>\n",
       "      <td>[Cyberpunk Aesthetic, Arte Cyberpunk, Pixel Ar...</td>\n",
       "      <td>https://www.pinterest.com/pin/702491241888463819/</td>\n",
       "      <td>https://i.pinimg.com/originals/e5/b1/c0/e5b1c0...</td>\n",
       "      <td>Cyberpunk Pixel Scene Commission for TopHatCal...</td>\n",
       "    </tr>\n",
       "    <tr>\n",
       "      <th>3574</th>\n",
       "      <td>[Tumblr Trippy, Trippy Quotes, Trippy Gif, Tri...</td>\n",
       "      <td>https://www.pinterest.com/pin/297659856625270558/</td>\n",
       "      <td>https://i.pinimg.com/originals/32/dd/7b/32dd7b...</td>\n",
       "      <td></td>\n",
       "    </tr>\n",
       "  </tbody>\n",
       "</table>\n",
       "<p>3575 rows × 4 columns</p>\n",
       "</div>"
      ],
      "text/plain": [
       "                                                   tags  \\\n",
       "0     [Character Design Animation, Character Design ...   \n",
       "1     [Little Nightmares Fanart, Dreams And Nightmar...   \n",
       "2     [Cyberpunk City, Cyberpunk 2077, Cyberpunk Kun...   \n",
       "3     [Fantasy Kunst, Fantasy City, Fantasy Places, ...   \n",
       "4     [Creature Concept Art, Creature Design, Creatu...   \n",
       "...                                                 ...   \n",
       "3570  [Photo 3d, Image Beautiful, 3d Mesh, Art Vinta...   \n",
       "3571  [Girls Cartoon Art, Cartoon Art Styles, Anime ...   \n",
       "3572  [Japon Illustration, Cute Illustration, Websit...   \n",
       "3573  [Cyberpunk Aesthetic, Arte Cyberpunk, Pixel Ar...   \n",
       "3574  [Tumblr Trippy, Trippy Quotes, Trippy Gif, Tri...   \n",
       "\n",
       "                                                    url  \\\n",
       "0      https://www.pinterest.com/pin/12525705205055127/   \n",
       "1     https://www.pinterest.com/pin/832814156105807021/   \n",
       "2     https://www.pinterest.com/pin/515099276148793993/   \n",
       "3     https://www.pinterest.com/pin/354728908162906711/   \n",
       "4     https://www.pinterest.com/pin/894738650947032543/   \n",
       "...                                                 ...   \n",
       "3570  https://www.pinterest.com/pin/564638872046245267/   \n",
       "3571  https://www.pinterest.com/pin/706150416606406453/   \n",
       "3572   https://www.pinterest.com/pin/37858453109156245/   \n",
       "3573  https://www.pinterest.com/pin/702491241888463819/   \n",
       "3574  https://www.pinterest.com/pin/297659856625270558/   \n",
       "\n",
       "                                                    src  \\\n",
       "0     https://i.pinimg.com/originals/4f/42/05/4f4205...   \n",
       "1     https://i.pinimg.com/originals/91/43/b9/9143b9...   \n",
       "2     https://i.pinimg.com/originals/28/e1/24/28e124...   \n",
       "3     https://i.pinimg.com/originals/01/98/37/019837...   \n",
       "4     https://i.pinimg.com/originals/22/de/51/22de51...   \n",
       "...                                                 ...   \n",
       "3570  https://i.pinimg.com/originals/f7/44/8d/f7448d...   \n",
       "3571  https://i.pinimg.com/originals/2d/63/6b/2d636b...   \n",
       "3572  https://i.pinimg.com/originals/d5/15/92/d51592...   \n",
       "3573  https://i.pinimg.com/originals/e5/b1/c0/e5b1c0...   \n",
       "3574  https://i.pinimg.com/originals/32/dd/7b/32dd7b...   \n",
       "\n",
       "                                                    alt  \n",
       "0                    Here Comes The Grump - Concept Art  \n",
       "1     Tarsier Studios Little Nightmares II Art Blast...  \n",
       "2     Showcase of Mind Blowing Concept Art of Futuri...  \n",
       "3                                                        \n",
       "4            Book of the Dead: Concept Art | Unity Blog  \n",
       "...                                                 ...  \n",
       "3570          The Surreal Portraiture of Simple Objects  \n",
       "3571                     Stephanie Priscilla on Twitter  \n",
       "3572                 Cat Tea by SeerLight on DeviantArt  \n",
       "3573  Cyberpunk Pixel Scene Commission for TopHatCal...  \n",
       "3574                                                     \n",
       "\n",
       "[3575 rows x 4 columns]"
      ]
     },
     "execution_count": 5,
     "metadata": {},
     "output_type": "execute_result"
    }
   ],
   "source": [
    "posts_df = posts.to_pandas()\n",
    "posts_df"
   ]
  },
  {
   "cell_type": "code",
   "execution_count": 6,
   "metadata": {},
   "outputs": [
    {
     "data": {
      "text/plain": [
       "tags    0\n",
       "url     0\n",
       "src     0\n",
       "alt     0\n",
       "dtype: int64"
      ]
     },
     "execution_count": 6,
     "metadata": {},
     "output_type": "execute_result"
    }
   ],
   "source": [
    "posts_df.isna().sum()"
   ]
  },
  {
   "cell_type": "code",
   "execution_count": 7,
   "metadata": {},
   "outputs": [
    {
     "name": "stdout",
     "output_type": "stream",
     "text": [
      "<class 'pandas.core.frame.DataFrame'>\n",
      "RangeIndex: 3575 entries, 0 to 3574\n",
      "Data columns (total 4 columns):\n",
      " #   Column  Non-Null Count  Dtype \n",
      "---  ------  --------------  ----- \n",
      " 0   tags    3575 non-null   object\n",
      " 1   url     3575 non-null   object\n",
      " 2   src     3575 non-null   object\n",
      " 3   alt     3575 non-null   object\n",
      "dtypes: object(4)\n",
      "memory usage: 111.8+ KB\n"
     ]
    }
   ],
   "source": [
    "posts_df.info()"
   ]
  },
  {
   "cell_type": "code",
   "execution_count": 8,
   "metadata": {},
   "outputs": [
    {
     "data": {
      "text/plain": [
       "15"
      ]
     },
     "execution_count": 8,
     "metadata": {},
     "output_type": "execute_result"
    }
   ],
   "source": [
    "posts_df.tags.apply(lambda x: len(x) == 0).sum()"
   ]
  },
  {
   "cell_type": "markdown",
   "metadata": {},
   "source": [
    "## \"Alt\" feature"
   ]
  },
  {
   "cell_type": "code",
   "execution_count": 9,
   "metadata": {},
   "outputs": [
    {
     "data": {
      "text/plain": [
       "615"
      ]
     },
     "execution_count": 9,
     "metadata": {},
     "output_type": "execute_result"
    }
   ],
   "source": [
    "np.sum(posts_df.alt.str.len() == 0)"
   ]
  },
  {
   "cell_type": "code",
   "execution_count": 10,
   "metadata": {},
   "outputs": [
    {
     "data": {
      "text/plain": [
       "count    3575.000000\n",
       "mean       41.160280\n",
       "std        52.866757\n",
       "min         0.000000\n",
       "25%        10.000000\n",
       "50%        28.000000\n",
       "75%        56.000000\n",
       "max       500.000000\n",
       "Name: alt, dtype: float64"
      ]
     },
     "execution_count": 10,
     "metadata": {},
     "output_type": "execute_result"
    }
   ],
   "source": [
    "posts_df.alt.str.len().describe()"
   ]
  },
  {
   "cell_type": "markdown",
   "metadata": {},
   "source": [
    "## TF-IDF"
   ]
  },
  {
   "cell_type": "code",
   "execution_count": 11,
   "metadata": {},
   "outputs": [],
   "source": [
    "nlp_md = spacy.load('en_core_web_sm')"
   ]
  },
  {
   "cell_type": "code",
   "execution_count": 12,
   "metadata": {},
   "outputs": [],
   "source": [
    "nlp = nlp_md"
   ]
  },
  {
   "cell_type": "code",
   "execution_count": 13,
   "metadata": {},
   "outputs": [
    {
     "name": "stderr",
     "output_type": "stream",
     "text": [
      "Warning : `load_model` does not return WordVectorModel or SupervisedModel any more, but a `FastText` object which is very similar.\n"
     ]
    }
   ],
   "source": [
    "Token.set_extension('is_stopword', default=False, force=True)\n",
    "Doc.set_extension('preprocessed_text', default='', force=True)\n",
    "\n",
    "@Language.component(\"detect_stopwods\")\n",
    "def detect_stopwods(doc: Doc):\n",
    "    for token in doc:\n",
    "        if (token.text.lower() in stop_words.STOP_WORDS) or (not token.is_alpha):\n",
    "            token._.is_stopword = True\n",
    "    return doc\n",
    "\n",
    "@Language.component(\"add_preprocessed_text\")\n",
    "def add_preprocessed_text(doc: Doc):\n",
    "    preprocessed_tokens = []\n",
    "    for token in doc:\n",
    "        if not token._.is_stopword:\n",
    "            preprocessed_tokens.append(token.lemma_.lower())\n",
    "        doc._.preprocessed_text = \" \".join(preprocessed_tokens)\n",
    "    return doc\n",
    "\n",
    "\n",
    "def create_pipeline(nlp):\n",
    "    nlp.add_pipe('detect_stopwods', last=True)\n",
    "    nlp.add_pipe('add_preprocessed_text', last=True)\n",
    "    nlp.add_pipe(\"language_detector\")\n",
    "    return nlp\n",
    "\n",
    "\n",
    "nlp = create_pipeline(nlp)\n",
    "\n",
    "\n",
    "def preprocess_text(text: str):\n",
    "    doc = nlp(text)\n",
    "    return doc"
   ]
  },
  {
   "cell_type": "code",
   "execution_count": 14,
   "metadata": {},
   "outputs": [],
   "source": [
    "posts_df['preprocessed_alt'] = posts_df.alt.apply(preprocess_text)\n",
    "posts_df = posts_df[posts_df['preprocessed_alt'].apply(lambda x: x._.language == 'en')]"
   ]
  },
  {
   "cell_type": "code",
   "execution_count": 15,
   "metadata": {},
   "outputs": [],
   "source": [
    "list_preprocessed_alt = posts_df['preprocessed_alt'].apply(lambda x: x._.preprocessed_text).to_list()"
   ]
  },
  {
   "cell_type": "code",
   "execution_count": 16,
   "metadata": {},
   "outputs": [
    {
     "data": {
      "text/plain": [
       "2825"
      ]
     },
     "execution_count": 16,
     "metadata": {},
     "output_type": "execute_result"
    }
   ],
   "source": [
    "len(list_preprocessed_alt)"
   ]
  },
  {
   "cell_type": "code",
   "execution_count": 17,
   "metadata": {
    "scrolled": true
   },
   "outputs": [
    {
     "name": "stderr",
     "output_type": "stream",
     "text": [
      "/var/folders/zv/m2ps__bn5qg37d0s71rrls4h0000gp/T/ipykernel_43092/159035458.py:3: SettingWithCopyWarning: \n",
      "A value is trying to be set on a copy of a slice from a DataFrame.\n",
      "Try using .loc[row_indexer,col_indexer] = value instead\n",
      "\n",
      "See the caveats in the documentation: https://pandas.pydata.org/pandas-docs/stable/user_guide/indexing.html#returning-a-view-versus-a-copy\n",
      "  posts_df['tfidf_descr_vector'] = list(X.toarray())\n"
     ]
    }
   ],
   "source": [
    "alt_vectorizer = TfidfVectorizer(max_df=0.9, min_df=0.0005)\n",
    "X = alt_vectorizer.fit_transform(list_preprocessed_alt)\n",
    "posts_df['tfidf_descr_vector'] = list(X.toarray())"
   ]
  },
  {
   "cell_type": "code",
   "execution_count": 18,
   "metadata": {},
   "outputs": [],
   "source": [
    "pickle.dump(alt_vectorizer, open('../Models/TfidfVectorizer.pkl', 'wb'))"
   ]
  },
  {
   "cell_type": "markdown",
   "metadata": {},
   "source": [
    "## BERT"
   ]
  },
  {
   "cell_type": "code",
   "execution_count": 19,
   "metadata": {},
   "outputs": [],
   "source": [
    "tokenizer = BertTokenizer.from_pretrained('bert-base-uncased')\n",
    "model = BertModel.from_pretrained('bert-base-uncased')\n",
    "\n",
    "tokens = tokenizer(posts_df['alt'][0], padding=True, truncation=True, return_tensors=\"pt\")\n",
    "with torch.no_grad():\n",
    "    outputs = model(**tokens)\n",
    "vector = outputs.last_hidden_state.mean(dim=1).numpy()[0]"
   ]
  },
  {
   "cell_type": "code",
   "execution_count": 20,
   "metadata": {},
   "outputs": [],
   "source": [
    "def get_vec_from_bert(text):\n",
    "    \n",
    "    tokens = tokenizer(text, padding=True, truncation=True, return_tensors=\"pt\")\n",
    "    \n",
    "    with torch.no_grad():\n",
    "        outputs = model(**tokens)\n",
    "        \n",
    "    return outputs.last_hidden_state.mean(dim=1).numpy()[0]"
   ]
  },
  {
   "cell_type": "code",
   "execution_count": 21,
   "metadata": {},
   "outputs": [
    {
     "name": "stderr",
     "output_type": "stream",
     "text": [
      "/var/folders/zv/m2ps__bn5qg37d0s71rrls4h0000gp/T/ipykernel_43092/1999431397.py:1: SettingWithCopyWarning: \n",
      "A value is trying to be set on a copy of a slice from a DataFrame.\n",
      "Try using .loc[row_indexer,col_indexer] = value instead\n",
      "\n",
      "See the caveats in the documentation: https://pandas.pydata.org/pandas-docs/stable/user_guide/indexing.html#returning-a-view-versus-a-copy\n",
      "  posts_df['bert_descr_vector'] = posts_df['alt'].apply(get_vec_from_bert)\n"
     ]
    }
   ],
   "source": [
    "posts_df['bert_descr_vector'] = posts_df['alt'].apply(get_vec_from_bert)"
   ]
  },
  {
   "cell_type": "code",
   "execution_count": 22,
   "metadata": {},
   "outputs": [
    {
     "data": {
      "text/plain": [
       "numpy.ndarray"
      ]
     },
     "execution_count": 22,
     "metadata": {},
     "output_type": "execute_result"
    }
   ],
   "source": [
    "type(posts_df['bert_descr_vector'][0])"
   ]
  },
  {
   "cell_type": "markdown",
   "metadata": {},
   "source": [
    "# Tags\n",
    "## Bag Of Words"
   ]
  },
  {
   "cell_type": "code",
   "execution_count": 23,
   "metadata": {},
   "outputs": [
    {
     "name": "stderr",
     "output_type": "stream",
     "text": [
      "/var/folders/zv/m2ps__bn5qg37d0s71rrls4h0000gp/T/ipykernel_43092/564294076.py:14: SettingWithCopyWarning: \n",
      "A value is trying to be set on a copy of a slice from a DataFrame.\n",
      "Try using .loc[row_indexer,col_indexer] = value instead\n",
      "\n",
      "See the caveats in the documentation: https://pandas.pydata.org/pandas-docs/stable/user_guide/indexing.html#returning-a-view-versus-a-copy\n",
      "  posts_df['preprocessed_tags'] = preprocessed_tags\n"
     ]
    }
   ],
   "source": [
    "def preprocess_tokens(post_tags: list):\n",
    "    all_tags = []\n",
    "    \n",
    "    for tags in post_tags:\n",
    "        all_tags.append(tags)\n",
    "        \n",
    "    joined = \" \".join(all_tags)\n",
    "    \n",
    "    preprocessed_tags = preprocess_text(joined)\n",
    "    preprocessed_tags = \" \".join(list(set((preprocessed_tags._.preprocessed_text).split(\" \"))))\n",
    "    return preprocessed_tags\n",
    "    \n",
    "preprocessed_tags = posts_df['tags'].apply(preprocess_tokens)\n",
    "posts_df['preprocessed_tags'] = preprocessed_tags"
   ]
  },
  {
   "cell_type": "code",
   "execution_count": 24,
   "metadata": {},
   "outputs": [
    {
     "name": "stderr",
     "output_type": "stream",
     "text": [
      "/var/folders/zv/m2ps__bn5qg37d0s71rrls4h0000gp/T/ipykernel_43092/2414996868.py:5: SettingWithCopyWarning: \n",
      "A value is trying to be set on a copy of a slice from a DataFrame.\n",
      "Try using .loc[row_indexer,col_indexer] = value instead\n",
      "\n",
      "See the caveats in the documentation: https://pandas.pydata.org/pandas-docs/stable/user_guide/indexing.html#returning-a-view-versus-a-copy\n",
      "  posts_df['tags_vector'] = list(vectorized_tags.toarray())\n"
     ]
    }
   ],
   "source": [
    "count_vect = CountVectorizer()\n",
    "\n",
    "vectorized_tags = count_vect.fit_transform(posts_df['preprocessed_tags'].to_list())\n",
    "\n",
    "posts_df['tags_vector'] = list(vectorized_tags.toarray())"
   ]
  },
  {
   "cell_type": "code",
   "execution_count": 25,
   "metadata": {},
   "outputs": [],
   "source": [
    "pickle.dump(count_vect, open('../Models/CountVectorizer.pkl', 'wb'))"
   ]
  },
  {
   "cell_type": "markdown",
   "metadata": {},
   "source": [
    "# Image Embedding"
   ]
  },
  {
   "cell_type": "code",
   "execution_count": 26,
   "metadata": {},
   "outputs": [
    {
     "name": "stderr",
     "output_type": "stream",
     "text": [
      "/Users/g.vinogradov/Documents/Projects/MarketPlace/recsys/recsysMicroservice/.venv/lib/python3.12/site-packages/torchvision/models/_utils.py:208: UserWarning: The parameter 'pretrained' is deprecated since 0.13 and may be removed in the future, please use 'weights' instead.\n",
      "  warnings.warn(\n",
      "/Users/g.vinogradov/Documents/Projects/MarketPlace/recsys/recsysMicroservice/.venv/lib/python3.12/site-packages/torchvision/models/_utils.py:223: UserWarning: Arguments other than a weight enum or `None` for 'weights' are deprecated since 0.13 and may be removed in the future. The current behavior is equivalent to passing `weights=ResNet18_Weights.IMAGENET1K_V1`. You can also use `weights=ResNet18_Weights.DEFAULT` to get the most up-to-date weights.\n",
      "  warnings.warn(msg)\n"
     ]
    }
   ],
   "source": [
    "resnet = models.resnet18(pretrained=True)\n",
    "\n",
    "scaler = Resize((224, 224))\n",
    "normalize = Normalize(mean=[0.485, 0.456, 0.406],\n",
    "                                 std=[0.229, 0.224, 0.225])\n",
    "to_tensor = ToTensor()"
   ]
  },
  {
   "cell_type": "code",
   "execution_count": 27,
   "metadata": {},
   "outputs": [],
   "source": [
    "\n",
    "layer = resnet._modules.get('avgpool')\n",
    "\n",
    "def vectorize_image(img):\n",
    "    \n",
    "    if img.mode != 'RGB':\n",
    "        img = img.convert('RGB')\n",
    "    \n",
    "    t_img = Variable(normalize(to_tensor(scaler(img))).unsqueeze(0))\n",
    "    embedding = torch.zeros(1, 512, 1, 1)\n",
    "\n",
    "    def copy_data(m, i, o):\n",
    "        embedding.copy_(o.data)\n",
    "\n",
    "    h = layer.register_forward_hook(copy_data)\n",
    "\n",
    "    resnet(t_img)\n",
    "    \n",
    "    h.remove()\n",
    "\n",
    "    return np.array((embedding.squeeze().numpy()))\n",
    "\n",
    "def vec_from_url(url: str):\n",
    "    response = requests.get(url)\n",
    "    \n",
    "    with Image.open(BytesIO(response.content)) as im:\n",
    "        return vectorize_image(im)"
   ]
  },
  {
   "cell_type": "code",
   "execution_count": 28,
   "metadata": {},
   "outputs": [
    {
     "name": "stdout",
     "output_type": "stream",
     "text": [
      "[0.89793724 0.9165713  0.8688449  0.9434708  0.94386214 0.91181105\n",
      " 0.90356684 1.050785   0.94063336 0.94308734 0.85249966 0.7925527\n",
      " 0.938904   0.8911817  0.95860195 0.9560891  0.9055819  1.3543128\n",
      " 0.85973155 0.8707417  0.9359368  1.0552709  0.9203825  0.9828014\n",
      " 0.9588462  0.9244528  0.87342864 0.9299794  0.86210096 0.96003675\n",
      " 0.9726717  0.8735032  0.96777225 0.89472115 0.9649755  0.9119528\n",
      " 0.94261366 0.9282695  0.9078262  0.9072848  0.9233081  0.8651609\n",
      " 0.7412457  1.014484   0.86617106 0.90823054 0.88918704 1.2086434\n",
      " 0.90077126 0.849416   0.9945899  0.9439015  0.8708466  0.96874523\n",
      " 0.9642156  0.90518934 1.1826112  0.94162893 1.0572268  0.95048696\n",
      " 0.8965212  0.92021364 0.9607186  0.8686256  0.87181425 0.99643487\n",
      " 0.82672065 0.93549967 0.95520407 0.86392903 0.87105733 0.79267067\n",
      " 0.8898691  0.8836879  0.82492405 0.92524207 0.82932025 1.0016358\n",
      " 0.9010905  0.8582693  0.9166435  1.029429   1.0701919  1.1630875\n",
      " 0.7909747  0.9020797  0.97063684 0.9205482  0.86163664 0.8929248\n",
      " 0.8319155  0.8781022  0.8913385  0.897844   0.8684069  0.8442864\n",
      " 0.9065201  0.880622   0.93770117 0.8586291  0.99221617 0.9793601\n",
      " 1.020378   1.0336235  0.9742144  0.83241546 0.94528353 0.9490242\n",
      " 0.9029801  0.9507286  0.8812115  1.0056235  0.88563305 0.9223605\n",
      " 0.8612847  0.94981027 0.88169074 0.95489454 0.91971564 0.9150536\n",
      " 0.948998   0.91488826 0.85919666 0.87008846 0.90937644 0.8331055\n",
      " 0.8966782  0.9526101  0.90316725 1.0255203  0.9117607  0.89828867\n",
      " 0.8486138  0.85930854 0.9978671  1.0155724  0.87443817 1.0116446\n",
      " 0.90860146 0.8910817  0.8890674  0.98194855 0.9648453  0.8917236\n",
      " 0.9171885  0.94204336 0.91201    0.99826103 0.91514605 1.0591928\n",
      " 0.930599   0.9256233  0.8650879  0.841814   0.87180483 0.9686775\n",
      " 0.9283055  1.0279549  0.808373   0.88052493 0.9037516  1.3593868\n",
      " 0.93786716 1.2743597  0.9477826  0.9827144  1.005629   0.8788841\n",
      " 0.90289366 0.91272235 0.9053851  0.89565325 0.8852093  0.77670026\n",
      " 0.940406   0.8793405  0.8460529  0.8397787  1.1388243  0.887472\n",
      " 0.8458707  0.8431862  1.3262645  0.9205673  0.99667454 0.9446053\n",
      " 0.89558846 1.0268745  0.8347213  0.9220637  0.88929224 0.928341\n",
      " 0.94224906 1.0886347  0.8712333  0.94694334 0.92384446 0.9088877\n",
      " 0.9172328  0.89158756 0.8734208  0.98605275 1.1036826  0.9248858\n",
      " 1.0189732  0.98759454 0.893144   0.86439764 0.9563556  0.96534353\n",
      " 0.90000415 0.8714782  0.93425626 0.9867993  1.0066382  0.9024186\n",
      " 0.95202327 0.87645954 0.90724164 0.8952153  0.9544746  0.97255\n",
      " 0.8858495  0.88595206 1.0149102  0.8403804  0.99420285 0.90756625\n",
      " 0.90956324 0.9306467  0.97727525 0.9683439  0.9248214  1.0111102\n",
      " 0.82311124 0.9629194  0.949206   1.0370424  0.8985309  1.0503485\n",
      " 0.8935638  0.85044605 0.9854694  0.8587252  0.90241385 1.03658\n",
      " 1.0007192  0.84560007 0.99122876 0.9900569  1.0610142  0.9170341\n",
      " 1.0223724  0.8967232  0.95931363 1.269241   0.9303296  1.1288426\n",
      " 0.9042974  1.0330528  0.9879954  0.92908674 0.9088816  0.95868194\n",
      " 0.8681415  0.9453931  0.86739707 0.9357214  0.88482624 0.9529104\n",
      " 0.91526467 0.8996122  0.942706   0.85631186 0.9085103  0.86143816\n",
      " 0.94328517 0.8661901  0.94668853 0.7796167  1.2667832  0.86653155\n",
      " 0.9642535  0.89229107 0.9698186  0.86260176 0.989764   0.88562846\n",
      " 1.0185478  0.9858604  0.89604235 0.9794329  0.7991641  0.8784966\n",
      " 0.9782606  0.88997644 0.8827963  1.1129508  0.9277809  0.919661\n",
      " 0.81558406 0.84752125 0.9220485  0.77998835 1.0877788  0.8979771\n",
      " 0.8820282  0.91603464 0.87191397 0.86929405 1.0464509  0.8556657\n",
      " 1.0823399  0.952598   0.8853384  0.8450374  1.0172623  0.84811586\n",
      " 1.037311   0.9153752  0.9095336  1.0048106  0.97924465 0.9025183\n",
      " 0.89749813 0.9202304  0.93656516 0.88036704 0.9007809  0.85394466\n",
      " 1.0293615  0.98571324 0.95841175 0.9241763  0.9704705  0.9316665\n",
      " 1.0530213  0.90381396 1.0217574  0.8891139  0.84799814 0.9159753\n",
      " 0.9627009  1.1153327  0.9935102  0.8719935  0.86116385 0.8598554\n",
      " 0.8970144  1.0222131  0.9103671  0.87130105 0.8834265  0.86799705\n",
      " 0.9060155  0.87380034 0.83537066 1.0207951  0.91585165 0.78776956\n",
      " 0.8802378  0.9480217  0.8528259  0.9042115  1.0066593  0.8014964\n",
      " 0.9491928  0.9080608  0.9389793  0.92149305 1.0906992  1.0120081\n",
      " 0.991934   0.87809163 0.89135075 0.90437174 0.8575976  0.93488896\n",
      " 0.9431915  0.9050637  1.050498   0.88944924 1.0008427  1.030006\n",
      " 1.0253971  0.9108518  0.85221046 1.0032624  0.86953783 0.9368455\n",
      " 0.97518456 0.9798015  0.7884448  0.97391707 1.1038004  0.95005924\n",
      " 0.89767677 0.9158302  0.94004524 0.9840874  1.0879762  1.1114584\n",
      " 0.8692513  0.852103   0.8966136  0.83492094 0.89174324 0.97359943\n",
      " 0.92358035 0.93667865 0.9145005  0.8800489  0.8491084  0.92324185\n",
      " 1.0298564  0.8746246  0.85648966 0.8804522  0.8762552  0.9447701\n",
      " 0.869063   0.85613143 0.95914984 0.97018915 0.9774645  0.9124277\n",
      " 0.9305241  1.0514592  0.9140633  0.9987711  0.8341219  0.9519104\n",
      " 0.8711306  0.93019557 0.9422587  1.2756667  0.91550267 0.92068833\n",
      " 0.93383944 0.8333808  0.95684516 0.89020056 0.8839795  0.97066146\n",
      " 0.9885472  0.95146275 0.9598511  0.99041116 0.99840045 0.94231856\n",
      " 0.8935485  0.89489335 0.9716738  0.94191027 0.9118124  0.9326306\n",
      " 0.98635894 0.9793379  0.8734719  0.96609044 1.0141941  0.98812306\n",
      " 0.8998387  0.79054    0.92653733 0.936085   1.0253097  0.97224164\n",
      " 0.9673591  0.99955463 0.9780235  0.9552066  0.91587925 0.89858735\n",
      " 0.8756592  0.8857794  0.8372845  0.8736346  0.8827934  0.9091068\n",
      " 0.8740457  1.0831735  0.84842    0.88536996 1.1461414  1.0103956\n",
      " 0.93437415 0.9556065  1.1111449  0.86913157 1.0140253  0.98299134\n",
      " 0.94891274 0.8847572  0.8954237  0.870165   0.85764116 0.90693694\n",
      " 0.97411644 0.9658866  0.9861043  0.93321055 0.92707896 0.93253446\n",
      " 0.8904861  0.8683759  1.0732908  0.9452369  0.9265869  0.9942314\n",
      " 1.0017651  0.99933165]\n"
     ]
    }
   ],
   "source": [
    "url = posts_df['src'][0]\n",
    "vector = vec_from_url(url)\n",
    "print(vector)"
   ]
  },
  {
   "cell_type": "code",
   "execution_count": 29,
   "metadata": {},
   "outputs": [],
   "source": [
    "vec_img = posts_df['src'].apply(vec_from_url)"
   ]
  },
  {
   "cell_type": "code",
   "execution_count": 30,
   "metadata": {},
   "outputs": [
    {
     "name": "stderr",
     "output_type": "stream",
     "text": [
      "/var/folders/zv/m2ps__bn5qg37d0s71rrls4h0000gp/T/ipykernel_43092/777040505.py:1: SettingWithCopyWarning: \n",
      "A value is trying to be set on a copy of a slice from a DataFrame.\n",
      "Try using .loc[row_indexer,col_indexer] = value instead\n",
      "\n",
      "See the caveats in the documentation: https://pandas.pydata.org/pandas-docs/stable/user_guide/indexing.html#returning-a-view-versus-a-copy\n",
      "  posts_df['image_vector'] = vec_img\n"
     ]
    }
   ],
   "source": [
    "posts_df['image_vector'] = vec_img"
   ]
  },
  {
   "cell_type": "code",
   "execution_count": 31,
   "metadata": {},
   "outputs": [
    {
     "data": {
      "text/plain": [
       "numpy.ndarray"
      ]
     },
     "execution_count": 31,
     "metadata": {},
     "output_type": "execute_result"
    }
   ],
   "source": [
    "type(posts_df['image_vector'][0])"
   ]
  },
  {
   "cell_type": "code",
   "execution_count": 32,
   "metadata": {},
   "outputs": [
    {
     "name": "stderr",
     "output_type": "stream",
     "text": [
      "/var/folders/zv/m2ps__bn5qg37d0s71rrls4h0000gp/T/ipykernel_43092/1543021518.py:1: SettingWithCopyWarning: \n",
      "A value is trying to be set on a copy of a slice from a DataFrame.\n",
      "Try using .loc[row_indexer,col_indexer] = value instead\n",
      "\n",
      "See the caveats in the documentation: https://pandas.pydata.org/pandas-docs/stable/user_guide/indexing.html#returning-a-view-versus-a-copy\n",
      "  posts_df['id'] = posts_df.index.tolist()\n",
      "/var/folders/zv/m2ps__bn5qg37d0s71rrls4h0000gp/T/ipykernel_43092/1543021518.py:2: SettingWithCopyWarning: \n",
      "A value is trying to be set on a copy of a slice from a DataFrame\n",
      "\n",
      "See the caveats in the documentation: https://pandas.pydata.org/pandas-docs/stable/user_guide/indexing.html#returning-a-view-versus-a-copy\n",
      "  posts_df.rename(columns={'concat_vector': 'vector'}, inplace=True)\n"
     ]
    }
   ],
   "source": [
    "posts_df['id'] = posts_df.index.tolist()\n",
    "posts_df.rename(columns={'concat_vector': 'vector'}, inplace=True)\n",
    "\n",
    "posts_df.drop(['preprocessed_alt', 'preprocessed_tags'], axis=1).to_parquet('posts.parquet.gzip',\n",
    "              compression='gzip')"
   ]
  }
 ],
 "metadata": {
  "kernelspec": {
   "display_name": "venv",
   "language": "python",
   "name": "venv"
  },
  "language_info": {
   "codemirror_mode": {
    "name": "ipython",
    "version": 3
   },
   "file_extension": ".py",
   "mimetype": "text/x-python",
   "name": "python",
   "nbconvert_exporter": "python",
   "pygments_lexer": "ipython3",
   "version": "3.12.4"
  }
 },
 "nbformat": 4,
 "nbformat_minor": 4
}
