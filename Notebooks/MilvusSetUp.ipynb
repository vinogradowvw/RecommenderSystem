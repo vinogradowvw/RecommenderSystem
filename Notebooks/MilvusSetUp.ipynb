{
 "cells": [
  {
   "cell_type": "markdown",
   "id": "e1f15bf6-0067-4c5b-a174-1d10af2d374c",
   "metadata": {},
   "source": [
    "# Milvus db set up"
   ]
  },
  {
   "cell_type": "code",
   "execution_count": 1,
   "id": "17ab8c96-7b75-4f8b-a73d-35a4fdb4c0e3",
   "metadata": {},
   "outputs": [],
   "source": [
    "from pymilvus import DataType, MilvusClient, connections, Collection\n",
    "import pandas as pd"
   ]
  },
  {
   "cell_type": "code",
   "execution_count": 56,
   "id": "e04a5175-ab0a-4033-b128-b250974e2e98",
   "metadata": {},
   "outputs": [],
   "source": [
    "posts_df = pd.read_parquet('posts.parquet.gzip')"
   ]
  },
  {
   "cell_type": "code",
   "execution_count": 57,
   "id": "0f13aaa3-df21-496a-aed5-3a2e363ca77b",
   "metadata": {},
   "outputs": [],
   "source": [
    "posts_data = posts_df[['id', 'bert_descr_vector', 'tfidf_descr_vector', 'image_vector', 'tags_vector']]\n",
    "posts_data = posts_data.to_dict(orient='records')\n",
    "\n",
    "for post in posts_data:\n",
    "    for vector_name in ['bert_descr_vector', 'tfidf_descr_vector', 'image_vector', 'tags_vector']:\n",
    "        post[vector_name] = post[vector_name].tolist()"
   ]
  },
  {
   "cell_type": "code",
   "execution_count": 2,
   "id": "755e4dab-bf83-4f3f-ba8e-e95948917f1b",
   "metadata": {},
   "outputs": [],
   "source": [
    "connections.connect(\n",
    "  alias=\"default\", \n",
    "  host='localhost',\n",
    "  port='19530'\n",
    ")"
   ]
  },
  {
   "cell_type": "code",
   "execution_count": 3,
   "id": "a0a0dbcd-6f39-4a21-8606-59e79fd5a301",
   "metadata": {},
   "outputs": [],
   "source": [
    "m_client = MilvusClient(\"http://localhost:19530\")"
   ]
  },
  {
   "cell_type": "code",
   "execution_count": 49,
   "id": "97124433-ef4d-44ba-8013-082576da355d",
   "metadata": {},
   "outputs": [],
   "source": [
    "if m_client.has_collection('post'):\n",
    "    m_client.drop_collection('post')\n",
    "\n",
    "if m_client.has_collection('user'):\n",
    "    m_client.drop_collection('user')\n",
    "\n",
    "\n",
    "post_schema = MilvusClient.create_schema(\n",
    "    auto_id=False,\n",
    "    enable_dynamic_field=False,\n",
    ")\n",
    "\n",
    "user_schema = MilvusClient.create_schema(\n",
    "    auto_id=False,\n",
    "    enable_dynamic_field=False,\n",
    ")\n",
    "\n",
    "post_schema.add_field(field_name=\"id\", datatype=DataType.INT64, is_primary=True)\n",
    "\n",
    "user_schema.add_field(field_name=\"id\", datatype=DataType.INT64, is_primary=True)\n",
    "user_schema.add_field(field_name=\"weight_count\", datatype=DataType.INT64)\n",
    "\n",
    "for vector_name in ['bert_descr_vector', 'tfidf_descr_vector', 'image_vector', 'tags_vector']:\n",
    "    post_schema.add_field(field_name=vector_name, datatype=DataType.FLOAT_VECTOR, dim=len(posts_data[0][vector_name]))\n",
    "    user_schema.add_field(field_name=vector_name, datatype=DataType.FLOAT_VECTOR, dim=len(posts_data[0][vector_name]))\n",
    "    \n",
    "\n",
    "\n",
    "user_index_params = m_client.prepare_index_params()\n",
    "post_index_params = m_client.prepare_index_params()\n",
    "\n",
    "for index_params in [user_index_params, post_index_params]:\n",
    "    \n",
    "    for vector_name in ['bert_descr_vector', 'tfidf_descr_vector', 'image_vector', 'tags_vector']:\n",
    "        \n",
    "        index_params.add_index(\n",
    "            field_name=\"id\",\n",
    "            index_type=\"STL_SORT\"\n",
    "        )\n",
    "        \n",
    "        index_params.add_index(\n",
    "            field_name=vector_name, \n",
    "            index_type=\"IVF_FLAT\",\n",
    "            metric_type=\"COSINE\",\n",
    "            params={ \"nlist\": 128 }\n",
    "        )\n",
    "\n",
    "\n",
    "m_client.create_collection(\n",
    "    collection_name=\"post\",\n",
    "    schema=post_schema,\n",
    "    index_params=post_index_params\n",
    ")\n",
    "\n",
    "\n",
    "m_client.create_collection(\n",
    "    collection_name=\"user\",\n",
    "    schema=user_schema,\n",
    "    index_params=user_index_params\n",
    ")\n"
   ]
  },
  {
   "cell_type": "code",
   "execution_count": 60,
   "id": "df4df177-c7c9-42fa-be91-c0173673a933",
   "metadata": {},
   "outputs": [
    {
     "data": {
      "text/plain": [
       "{'state': <LoadState: Loaded>}"
      ]
     },
     "execution_count": 60,
     "metadata": {},
     "output_type": "execute_result"
    }
   ],
   "source": [
    "m_client.get_load_state(\n",
    "    collection_name=\"post\"\n",
    ")"
   ]
  },
  {
   "cell_type": "code",
   "execution_count": 61,
   "id": "56b5361a-6c41-4c8a-8f9d-528f3d55e8b3",
   "metadata": {},
   "outputs": [
    {
     "data": {
      "text/plain": [
       "{'state': <LoadState: Loaded>}"
      ]
     },
     "execution_count": 61,
     "metadata": {},
     "output_type": "execute_result"
    }
   ],
   "source": [
    "m_client.get_load_state(\n",
    "    collection_name=\"user\"\n",
    ")"
   ]
  },
  {
   "cell_type": "code",
   "execution_count": 62,
   "id": "54067fd8-5ed7-41c2-8a0e-057ab2c5e694",
   "metadata": {},
   "outputs": [
    {
     "data": {
      "text/plain": [
       "{'upsert_count': 2825, 'cost': 0}"
      ]
     },
     "execution_count": 62,
     "metadata": {},
     "output_type": "execute_result"
    }
   ],
   "source": [
    "m_client.upsert(collection_name='post', data = posts_data)"
   ]
  },
  {
   "cell_type": "code",
   "execution_count": 6,
   "id": "7a7718d0-5b19-4da7-94b6-29ccf07f5cdc",
   "metadata": {},
   "outputs": [],
   "source": [
    "res = m_client.get(collection_name='post', ids=[1])"
   ]
  },
  {
   "cell_type": "code",
   "execution_count": 7,
   "id": "9cd84332-4484-4842-963e-9a75082e9882",
   "metadata": {},
   "outputs": [
    {
     "data": {
      "text/plain": [
       "data: [] , extra_info: {'cost': 0}"
      ]
     },
     "execution_count": 7,
     "metadata": {},
     "output_type": "execute_result"
    }
   ],
   "source": [
    "res"
   ]
  },
  {
   "cell_type": "code",
   "execution_count": null,
   "id": "e886b4e8-ae7a-4486-bca4-c04b30d65532",
   "metadata": {},
   "outputs": [],
   "source": []
  }
 ],
 "metadata": {
  "kernelspec": {
   "display_name": "RecomenderSystem",
   "language": "python",
   "name": "recomendersystem"
  },
  "language_info": {
   "codemirror_mode": {
    "name": "ipython",
    "version": 3
   },
   "file_extension": ".py",
   "mimetype": "text/x-python",
   "name": "python",
   "nbconvert_exporter": "python",
   "pygments_lexer": "ipython3",
   "version": "3.12.4"
  }
 },
 "nbformat": 4,
 "nbformat_minor": 5
}
